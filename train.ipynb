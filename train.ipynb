{
 "cells": [
  {
   "cell_type": "markdown",
   "id": "e7ca0d19",
   "metadata": {},
   "source": [
    "nnUNet_plan_and_preprocess -t 600 --verify_dataset_integrity"
   ]
  },
  {
   "cell_type": "markdown",
   "id": "883b138a",
   "metadata": {},
   "source": [
    "for i in 0 1 2 3 4\n",
    "do\n",
    "\tCUDA_VISIBLE_DEVICES=0 nnUNet_train 3d_fullres nnUNetTrainerV2 Task600_Cartilage_Labrum $i --npz\n",
    "done"
   ]
  },
  {
   "cell_type": "markdown",
   "id": "8bdddae1",
   "metadata": {},
   "source": [
    "nnUNet_find_best_configuration -m 3d_fullres -t 600"
   ]
  },
  {
   "cell_type": "code",
   "execution_count": null,
   "id": "e1f2b428",
   "metadata": {},
   "outputs": [],
   "source": []
  }
 ],
 "metadata": {
  "kernelspec": {
   "display_name": "Python 3 (ipykernel)",
   "language": "python",
   "name": "python3"
  },
  "language_info": {
   "codemirror_mode": {
    "name": "ipython",
    "version": 3
   },
   "file_extension": ".py",
   "mimetype": "text/x-python",
   "name": "python",
   "nbconvert_exporter": "python",
   "pygments_lexer": "ipython3",
   "version": "3.10.4"
  },
  "toc": {
   "base_numbering": 1,
   "nav_menu": {},
   "number_sections": true,
   "sideBar": true,
   "skip_h1_title": false,
   "title_cell": "Table of Contents",
   "title_sidebar": "Contents",
   "toc_cell": false,
   "toc_position": {},
   "toc_section_display": true,
   "toc_window_display": false
  }
 },
 "nbformat": 4,
 "nbformat_minor": 5
}
