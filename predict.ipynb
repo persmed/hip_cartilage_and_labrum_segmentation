{
 "cells": [
  {
   "cell_type": "code",
   "execution_count": null,
   "id": "1ab41159",
   "metadata": {},
   "outputs": [],
   "source": [
    "import os\n",
    "import re\n",
    "import SimpleITK as sitk"
   ]
  },
  {
   "cell_type": "markdown",
   "id": "6eb20891",
   "metadata": {},
   "source": [
    "nnUNet_predict -i /mnt/Data/nnUNet_raw/nnUNet_raw_data/Task600_Cartilage_Labrum/imagesTs -o /mnt/Data/nnUNet_raw/nnUNet_raw_data/Task600_Cartilage_Labrum/imagesTsPred -tr nnUNetTrainerV2 -ctr nnUNetTrainerV2CascadeFullRes -m 3d_fullres -p nnUNetPlansv2.1 -t Task600_Cartilage_Labrum"
   ]
  },
  {
   "cell_type": "code",
   "execution_count": null,
   "id": "660278dd",
   "metadata": {
    "scrolled": true
   },
   "outputs": [],
   "source": [
    "imagePath = '/mnt/Data/nnUNet_raw/nnUNet_raw_data/Task600_Cartilage_Labrum/imagesTs/'\n",
    "gtlabelPath = '/mnt/Data/nnUNet_raw/nnUNet_raw_data/Task600_Cartilage_Labrum/labelsTs/'\n",
    "predlabelPath = '/mnt/Data/nnUNet_raw/nnUNet_raw_data/Task600_Cartilage_Labrum/imagesTsPred/'\n",
    "\n",
    "data = []\n",
    "for file in os.listdir(imagePath):\n",
    "    num =int(re.search(r'\\d{3}', file).group(0))\n",
    "    data.append({'ID':num,\n",
    "                'image':os.path.join(imagePath,file),\n",
    "                 'gt':os.path.join(gtlabelPath,'labrum_{0:03d}.nii.gz'.format(num)),\n",
    "                 'pred':os.path.join(predlabelPath,'labrum_{0:03d}.nii.gz'.format(num))\n",
    "                })\n",
    "data"
   ]
  },
  {
   "cell_type": "code",
   "execution_count": null,
   "id": "3dd170cb",
   "metadata": {},
   "outputs": [],
   "source": [
    "len(data)"
   ]
  },
  {
   "cell_type": "code",
   "execution_count": null,
   "id": "07927e0a",
   "metadata": {},
   "outputs": [],
   "source": [
    "import medpy.metric as metric\n",
    "import numpy as np\n",
    "metrics = np.zeros([len(data),3])\n",
    "for p, patient in enumerate(data):\n",
    "    gt = sitk.GetArrayFromImage(sitk.ReadImage(patient['gt']))\n",
    "    pred = sitk.GetArrayFromImage(sitk.ReadImage(patient['pred']))\n",
    "    metrics[p,0] = patient['ID']\n",
    "    for i in range(1,3):\n",
    "        predlabel = pred == i\n",
    "        gtlabel =  gt == i\n",
    "        metrics[p,i] = metric.dc(predlabel,gtlabel)"
   ]
  },
  {
   "cell_type": "code",
   "execution_count": null,
   "id": "5e8a47b7",
   "metadata": {},
   "outputs": [],
   "source": [
    "print(len(metrics),np.mean(metrics[:,1:3],axis=0))\n",
    "print(len(metrics),np.std(metrics[:,1:3],axis=0))\n",
    "print(len(metrics),np.min(metrics[:,1:3],axis=0))\n",
    "print(len(metrics),np.max(metrics[:,1:3],axis=0))\n"
   ]
  },
  {
   "cell_type": "code",
   "execution_count": null,
   "id": "a1d9d0ee",
   "metadata": {},
   "outputs": [],
   "source": [
    "metrics"
   ]
  },
  {
   "cell_type": "code",
   "execution_count": null,
   "id": "710a7399",
   "metadata": {},
   "outputs": [],
   "source": []
  }
 ],
 "metadata": {
  "kernelspec": {
   "display_name": "Python 3 (ipykernel)",
   "language": "python",
   "name": "python3"
  },
  "language_info": {
   "codemirror_mode": {
    "name": "ipython",
    "version": 3
   },
   "file_extension": ".py",
   "mimetype": "text/x-python",
   "name": "python",
   "nbconvert_exporter": "python",
   "pygments_lexer": "ipython3",
   "version": "3.10.4"
  },
  "toc": {
   "base_numbering": 1,
   "nav_menu": {},
   "number_sections": true,
   "sideBar": true,
   "skip_h1_title": false,
   "title_cell": "Table of Contents",
   "title_sidebar": "Contents",
   "toc_cell": false,
   "toc_position": {},
   "toc_section_display": true,
   "toc_window_display": false
  }
 },
 "nbformat": 4,
 "nbformat_minor": 5
}
