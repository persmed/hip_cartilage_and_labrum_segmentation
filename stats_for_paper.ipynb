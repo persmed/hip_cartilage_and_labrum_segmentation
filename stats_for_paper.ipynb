{
 "cells": [
  {
   "cell_type": "code",
   "execution_count": null,
   "id": "c2576790",
   "metadata": {},
   "outputs": [],
   "source": [
    "import os\n",
    "import re\n",
    "from pathlib import Path\n",
    "from medpy.metric import assd, dc, precision, recall\n",
    "import SimpleITK as sitk\n",
    "import numpy as np\n",
    "import csv\n",
    "from tqdm import tqdm_notebook as tqdm"
   ]
  },
  {
   "cell_type": "code",
   "execution_count": null,
   "id": "da5da051",
   "metadata": {},
   "outputs": [],
   "source": [
    "labels = ['Cartilage', 'Labrum']\n",
    "folds_path = '/mnt/Data/nnUNet_trained_models/nnUNet/3d_fullres/Task604_Cartilage_Labrum_TRUFI/nnUNetTrainerV2__nnUNetPlansv2.1/'\n",
    "gts_path = '/mnt/Data/nnUNet_trained_models/nnUNet/3d_fullres/Task604_Cartilage_Labrum_TRUFI/nnUNetTrainerV2__nnUNetPlansv2.1/gt_niftis/'\n",
    "folds_path = Path(folds_path)\n",
    "gts_path = Path(gts_path)\n",
    "pred = [str(file) for file in folds_path.glob('*/validation_raw_postprocessed/*.nii.gz')]\n",
    "gts = [str(file) for file in gts_path.glob('*.nii.gz')]\n",
    "\n",
    "data = []\n",
    "for case in pred:\n",
    "    id_ = re.search(r'\\d{3}(?=.nii.gz)', case).group(0)\n",
    "    print(id_)\n",
    "    data.append({'ID':int(id_),\n",
    "                 'Set': 'TRUFI_5Fold',\n",
    "                  'pred': case,\n",
    "                  'gt': [path for path in gts if id_+'.nii' in path][0]\n",
    "        })\n",
    "    for label in labels:\n",
    "        data[-1][label] = {}"
   ]
  },
  {
   "cell_type": "code",
   "execution_count": null,
   "id": "1b054ea2",
   "metadata": {
    "scrolled": true
   },
   "outputs": [],
   "source": [
    "folds_path = '/mnt/Data/nnUNet_trained_models/nnUNet/3d_fullres/Task600_Cartilage_Labrum/nnUNetTrainerV2__nnUNetPlansv2.1/'\n",
    "gts_path = '/mnt/Data/nnUNet_trained_models/nnUNet/3d_fullres/Task600_Cartilage_Labrum/nnUNetTrainerV2__nnUNetPlansv2.1/gt_niftis/'\n",
    "folds_path = Path(folds_path)\n",
    "gts_path = Path(gts_path)\n",
    "pred = [str(file) for file in folds_path.glob('*/validation_raw_postprocessed/*.nii.gz')]\n",
    "gts = [str(file) for file in gts_path.glob('*.nii.gz')]\n",
    "\n",
    "for case in pred:\n",
    "    id_ = re.search(r'\\d{3}(?=.nii.gz)', case).group(0)\n",
    "    print(id_)\n",
    "    data.append({'ID':int(id_),\n",
    "                 'Set': 'MP2RAGE_5Fold',\n",
    "                  'pred': case,\n",
    "                  'gt': [path for path in gts if id_+'.nii' in path][0]\n",
    "        })\n",
    "    for label in labels:\n",
    "        data[-1][label] = {}"
   ]
  },
  {
   "cell_type": "code",
   "execution_count": null,
   "id": "3b0ffce4",
   "metadata": {},
   "outputs": [],
   "source": [
    "pred_path = '/mnt/Data/nnUNet_raw/nnUNet_raw_data/Task600_Cartilage_Labrum/imagesTsPred'\n",
    "gts_path = '/mnt/Data/nnUNet_raw/nnUNet_raw_data/Task600_Cartilage_Labrum/labelsTs'\n",
    "pred_path = Path(pred_path)\n",
    "gts_path = Path(gts_path)\n",
    "pred = [str(file) for file in pred_path.glob('*.nii.gz')]\n",
    "gts = [str(file) for file in gts_path.glob('*.nii.gz')]\n",
    "\n",
    "for case in pred:\n",
    "    id_ = re.search(r'\\d{3}(?=.nii.gz)', case).group(0)\n",
    "    print(id_)\n",
    "    data.append({'ID':int(id_),\n",
    "                 'Set': 'MP2RAGE_Test',\n",
    "                  'pred': case,\n",
    "                  'gt': [path for path in gts if id_+'.nii' in path][0]\n",
    "        })\n",
    "    for label in labels:\n",
    "        data[-1][label] = {}"
   ]
  },
  {
   "cell_type": "code",
   "execution_count": null,
   "id": "3a95dda8",
   "metadata": {},
   "outputs": [],
   "source": [
    "pred_path = 'External TRUFI/External_validation_TRUFI_Cropped/labelsTsPredict'\n",
    "gts_path = 'External TRUFI/External_validation_TRUFI_Cropped/labelsTs'\n",
    "pred_path = Path(pred_path)\n",
    "gts_path = Path(gts_path)\n",
    "pred = [str(file) for file in pred_path.glob('*[0-9].nii.gz')]\n",
    "gts = [str(file) for file in gts_path.glob('*.nii.gz')]\n",
    "\n",
    "for case in pred:\n",
    "    id_ = re.search(r'\\d{3}(?=.nii.gz)', case).group(0)\n",
    "    print(id_)\n",
    "    data.append({'ID':int(id_),\n",
    "                 'Set': 'MP2RAGE_TRUFI_Test',\n",
    "                  'pred': case,\n",
    "                  'gt': [path for path in gts if id_+'.nii' in path][0]\n",
    "        })\n",
    "    for label in labels:\n",
    "        data[-1][label] = {}\n"
   ]
  },
  {
   "cell_type": "code",
   "execution_count": null,
   "id": "3d69314a",
   "metadata": {},
   "outputs": [],
   "source": [
    "pred_path = 'External TRUFI/second_set/labelsTsPredict'\n",
    "gts_path = 'External TRUFI/second_set/labelsTs'\n",
    "pred_path = Path(pred_path)\n",
    "gts_path = Path(gts_path)\n",
    "pred = [str(file) for file in pred_path.glob('*[0-9].nii.gz')]\n",
    "gts = [str(file) for file in gts_path.glob('*.nii.gz')]\n",
    "\n",
    "for case in pred:\n",
    "    id_ = re.search(r'\\d{3}(?=.nii.gz)', case).group(0)\n",
    "    print(id_)\n",
    "    data.append({'ID':int(id_),\n",
    "                 'Set': 'TRUFI_Test',\n",
    "                  'pred': case,\n",
    "                  'gt': [path for path in gts if id_+'.nii' in path][0]\n",
    "        })\n",
    "    for label in labels:\n",
    "        data[-1][label] = {}"
   ]
  },
  {
   "cell_type": "code",
   "execution_count": null,
   "id": "ac5a3467",
   "metadata": {},
   "outputs": [],
   "source": [
    "len(data)"
   ]
  },
  {
   "cell_type": "code",
   "execution_count": null,
   "id": "fc6c91da",
   "metadata": {},
   "outputs": [],
   "source": [
    "lssGTFilter = sitk.LabelShapeStatisticsImageFilter()\n",
    "lssPredFilter = sitk.LabelShapeStatisticsImageFilter()\n",
    "for patient in tqdm(data):\n",
    "    gt = sitk.ReadImage(patient['gt'])\n",
    "    pred = sitk.ReadImage(patient['pred'])\n",
    "    spacing = np.flip(np.array(gt.GetSpacing()))\n",
    "    gt_np = sitk.GetArrayFromImage(gt)\n",
    "    pred_np = sitk.GetArrayFromImage(pred)\n",
    "    \n",
    "    lssGTFilter.Execute(gt)\n",
    "    lssPredFilter.Execute(pred)\n",
    "    \n",
    "    \n",
    "    for num, label in enumerate(labels, start = 1):\n",
    "        gt_label = gt_np == num\n",
    "        pred_label = pred_np == num\n",
    "        \n",
    "        patient[label]['DC'] = dc(pred_label,gt_label)\n",
    "        patient[label]['ASSD'] = assd(pred_label,gt_label,voxelspacing=spacing)\n",
    "        patient[label]['Precision'] = precision(pred_label,gt_label)\n",
    "        patient[label]['Recall'] = recall(pred_label,gt_label)\n",
    "        patient[label]['manual_Volume'.format(label)] = lssGTFilter.GetPhysicalSize(num)\n",
    "        patient[label]['automatic_Volume'.format(label)] = lssPredFilter.GetPhysicalSize(num)\n"
   ]
  },
  {
   "cell_type": "code",
   "execution_count": null,
   "id": "d8662be7",
   "metadata": {},
   "outputs": [],
   "source": [
    "for label in labels:\n",
    "    print(label)\n",
    "    for key in patient[label].keys():\n",
    "        print(key, np.mean([patient[label][key] for patient in data]))"
   ]
  },
  {
   "cell_type": "code",
   "execution_count": null,
   "id": "2ef2f191",
   "metadata": {},
   "outputs": [],
   "source": [
    "[(patient['Cartilage']['manual_Volume'],patient['Cartilage']['automatic_Volume']) for patient in data]"
   ]
  },
  {
   "cell_type": "code",
   "execution_count": null,
   "id": "1371c7ac",
   "metadata": {},
   "outputs": [],
   "source": [
    "with open('paper_stats.csv', 'w', newline='') as csvfile:\n",
    "    fieldnames = ['ID', 'Set','Label','DC', 'ASSD', 'Precision','Recall','manual_Volume', 'automatic_Volume']\n",
    "    writer = csv.DictWriter(csvfile, fieldnames=fieldnames)\n",
    "    writer.writeheader()\n",
    "    for patient in data:\n",
    "        for label in labels:\n",
    "            writer.writerow({'ID':patient['ID'],\n",
    "                             'Set':patient['Set'],\n",
    "                             'Label': label,\n",
    "                             'DC':patient[label]['DC'],\n",
    "                             'ASSD':patient[label]['ASSD'],\n",
    "                             'Precision':patient[label]['Precision'],\n",
    "                             'Recall':patient[label]['Recall'],\n",
    "                             'manual_Volume':patient[label]['manual_Volume'],\n",
    "                             'automatic_Volume':patient[label]['automatic_Volume']\n",
    "                            })"
   ]
  },
  {
   "cell_type": "code",
   "execution_count": null,
   "id": "15d2a66d",
   "metadata": {},
   "outputs": [],
   "source": []
  }
 ],
 "metadata": {
  "kernelspec": {
   "display_name": "Python 3 (ipykernel)",
   "language": "python",
   "name": "python3"
  },
  "language_info": {
   "codemirror_mode": {
    "name": "ipython",
    "version": 3
   },
   "file_extension": ".py",
   "mimetype": "text/x-python",
   "name": "python",
   "nbconvert_exporter": "python",
   "pygments_lexer": "ipython3",
   "version": "3.10.4"
  },
  "toc": {
   "base_numbering": 1,
   "nav_menu": {},
   "number_sections": true,
   "sideBar": true,
   "skip_h1_title": false,
   "title_cell": "Table of Contents",
   "title_sidebar": "Contents",
   "toc_cell": false,
   "toc_position": {},
   "toc_section_display": true,
   "toc_window_display": false
  }
 },
 "nbformat": 4,
 "nbformat_minor": 5
}
